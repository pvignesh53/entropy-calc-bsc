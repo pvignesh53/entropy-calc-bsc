{
  "nbformat": 4,
  "nbformat_minor": 0,
  "metadata": {
    "colab": {
      "name": "ITCT_project_BSC.ipynb",
      "provenance": [],
      "collapsed_sections": []
    },
    "kernelspec": {
      "name": "python3",
      "display_name": "Python 3"
    }
  },
  "cells": [
    {
      "cell_type": "markdown",
      "metadata": {
        "id": "tRuyVuEFpG2y"
      },
      "source": [
        "# **Information Theory and Coding Techniques - Mini Project**\n",
        "\n",
        "---\n",
        "\n",
        "\n",
        "# *Calculation of Entropies and Mutual Information using a Binary Symmetric Channel*\n",
        "\n",
        "\n",
        "\n",
        "---\n",
        "\n",
        "> **Group**\n",
        "*   **P. H. LAKSHMI** - BL.EN.U4ECE17105 \n",
        "*   **P. VIGNESH** - BL.EN.U4ECE17144\n",
        "*   **PALLI ASHISH** - BL.EN.U4ECE17149\n",
        "\n",
        "\n",
        "\n",
        "\n",
        "\n",
        "\n",
        "\n"
      ]
    },
    {
      "cell_type": "markdown",
      "metadata": {
        "id": "b2lOPLp3IxPe"
      },
      "source": [
        "\n",
        "\n",
        "\n",
        "---\n",
        "\n",
        "\n",
        "*   **math library** -  this library is used to implement a predefined function - log()\n",
        "*   **numpy library** - this library is used to implement a predefined function - reciprocal()\n",
        "\n",
        "\n"
      ]
    },
    {
      "cell_type": "code",
      "metadata": {
        "id": "-DHr1ZLIp4W7"
      },
      "source": [
        "#Loading the necessary libraries\n",
        "import math\n",
        "import numpy as np"
      ],
      "execution_count": 16,
      "outputs": []
    },
    {
      "cell_type": "markdown",
      "metadata": {
        "id": "vFWbFQe8Jh9m"
      },
      "source": [
        "\n",
        "\n",
        "---\n",
        "\n",
        "* The **Number of Inputs** and **Outputs** for a BSC is 2.\n",
        "* **Probabilities of symbols** taken as user input.\n",
        "* **Probability of error** is also taken as a user input."
      ]
    },
    {
      "cell_type": "code",
      "metadata": {
        "colab": {
          "base_uri": "https://localhost:8080/",
          "height": 0
        },
        "id": "kdO4sJcSpF_u",
        "outputId": "17b198ae-c2b6-4493-9cda-1148d55fa630"
      },
      "source": [
        "\n",
        "#Number of inputs and outputs to and from a Binary Symmetric Channel is always 2\n",
        "inputs = 2\n",
        "outputs = 2\n",
        "\n",
        "\n",
        "#User input of probabilities of transmitted symbols\n",
        "prob_a = float(input(\"probability of symbol 1 : \"))\n",
        "\n",
        "#since sum of probabilites must be equal to 1\n",
        "prob_b = 1 - prob_a \n",
        "\n",
        "#User Input of the Probability of Error\n",
        "p = float(input(\"Enter the probability of error (p) (bits/message-symbol): \"))\n",
        "p_bar = 1-p\n",
        "\n",
        "\n"
      ],
      "execution_count": 20,
      "outputs": [
        {
          "output_type": "stream",
          "text": [
            "probability of symbol 1 : 0.4\n",
            "Enter the probability of error (p) (bits/message-symbol): 0.04\n"
          ],
          "name": "stdout"
        }
      ]
    },
    {
      "cell_type": "markdown",
      "metadata": {
        "id": "jyP5o4rkslM_"
      },
      "source": [
        "# Input - Channel Matrix - P(Y/X)"
      ]
    },
    {
      "cell_type": "code",
      "metadata": {
        "colab": {
          "base_uri": "https://localhost:8080/",
          "height": 0
        },
        "id": "0lsp6Z4cpZTx",
        "outputId": "081831a8-115f-46d5-a46b-3ac96b8cade4"
      },
      "source": [
        "#Channel matrix initialised as an array (array of arrays)\n",
        "CM = [[p_bar,p],\n",
        "      [p,p_bar]]\n",
        "print(CM)"
      ],
      "execution_count": 21,
      "outputs": [
        {
          "output_type": "stream",
          "text": [
            "[[0.96, 0.04], [0.04, 0.96]]\n"
          ],
          "name": "stdout"
        }
      ]
    },
    {
      "cell_type": "markdown",
      "metadata": {
        "id": "F3UpHcRZtdpB"
      },
      "source": [
        "# Channel probabilities - P(x)"
      ]
    },
    {
      "cell_type": "code",
      "metadata": {
        "colab": {
          "base_uri": "https://localhost:8080/",
          "height": 0
        },
        "id": "02lhdB2OthLT",
        "outputId": "c10422b5-4370-4854-84d7-23058456105a"
      },
      "source": [
        "w = prob_a\n",
        "w_bar = prob_b\n",
        "print(w,w_bar)\n",
        "w_mat = [w,w_bar]"
      ],
      "execution_count": 22,
      "outputs": [
        {
          "output_type": "stream",
          "text": [
            "0.4 0.6\n"
          ],
          "name": "stdout"
        }
      ]
    },
    {
      "cell_type": "markdown",
      "metadata": {
        "id": "7CsCtFTGsVX_"
      },
      "source": [
        "# Entropy of channel input H(x)\n",
        "\n"
      ]
    },
    {
      "cell_type": "code",
      "metadata": {
        "colab": {
          "base_uri": "https://localhost:8080/",
          "height": 0
        },
        "id": "OBp9PctFpmFx",
        "outputId": "b27ac4e6-ded7-4143-c093-5b97fb7168b7"
      },
      "source": [
        "H_x = 0\n",
        "for i in range (0, outputs):\n",
        "    var = w_mat[i]\n",
        "    print(var)\n",
        "    var_log = math.log((np.reciprocal(var)),2)\n",
        "\n",
        "    H_x = H_x + var*var_log\n",
        "\n",
        "print(H_x,\"bits/message-symbol\")\n",
        "    \n",
        "\n"
      ],
      "execution_count": 23,
      "outputs": [
        {
          "output_type": "stream",
          "text": [
            "0.4\n",
            "0.6\n",
            "0.9709505944546687 bits/message-symbol\n"
          ],
          "name": "stdout"
        }
      ]
    },
    {
      "cell_type": "markdown",
      "metadata": {
        "id": "T-HyA_LVuGpY"
      },
      "source": [
        "# Entropy of channel output H(y)"
      ]
    },
    {
      "cell_type": "code",
      "metadata": {
        "colab": {
          "base_uri": "https://localhost:8080/",
          "height": 0
        },
        "id": "kTEfRGz5pp_V",
        "outputId": "32b92057-7e16-467a-8f0e-08fe7a9cefc9"
      },
      "source": [
        "p_y1 = (p_bar*w)+(p*w_bar)\n",
        "p_y2 = (p*w)+(p_bar*w_bar)\n",
        "print(p_y1,p_y2)"
      ],
      "execution_count": 24,
      "outputs": [
        {
          "output_type": "stream",
          "text": [
            "0.40800000000000003 0.592\n"
          ],
          "name": "stdout"
        }
      ]
    },
    {
      "cell_type": "code",
      "metadata": {
        "colab": {
          "base_uri": "https://localhost:8080/",
          "height": 0
        },
        "id": "5zFBC_rxBRju",
        "outputId": "8ad3941a-f1b9-400f-b4cf-4f129ca00398"
      },
      "source": [
        "log_p_y1 = math.log(np.reciprocal(p_y1),2)\n",
        "log_p_y2 = math.log(np.reciprocal(p_y2),2)\n",
        "print(log_p_y1,log_p_y2)"
      ],
      "execution_count": 25,
      "outputs": [
        {
          "output_type": "stream",
          "text": [
            "1.2933589426905914 0.7563309190331374\n"
          ],
          "name": "stdout"
        }
      ]
    },
    {
      "cell_type": "code",
      "metadata": {
        "colab": {
          "base_uri": "https://localhost:8080/",
          "height": 0
        },
        "id": "Cg_JI82kB0sc",
        "outputId": "a6376108-4282-453e-9b3a-52d24b66d821"
      },
      "source": [
        "H_y = (p_y1*log_p_y1)+(p_y2*log_p_y2)\n",
        "print(H_y,\"bits/message-symbol\")"
      ],
      "execution_count": 26,
      "outputs": [
        {
          "output_type": "stream",
          "text": [
            "0.9754383526853786 bits/message-symbol\n"
          ],
          "name": "stdout"
        }
      ]
    },
    {
      "cell_type": "markdown",
      "metadata": {
        "id": "QfeagWu1CY38"
      },
      "source": [
        "# Equivocation - H(X/Y)"
      ]
    },
    {
      "cell_type": "code",
      "metadata": {
        "colab": {
          "base_uri": "https://localhost:8080/",
          "height": 0
        },
        "id": "QKDe3Z69CA3-",
        "outputId": "aa2d6c1b-f43c-481b-831a-9f2c37eea90b"
      },
      "source": [
        "log_p = math.log(np.reciprocal(p),2)\n",
        "log_p_bar = math.log(np.reciprocal(p_bar),2)\n",
        "H_x_y = (p_bar*log_p_bar)+(p*log_p)\n",
        "print(H_x_y,\"bits/message-symbol\")"
      ],
      "execution_count": 27,
      "outputs": [
        {
          "output_type": "stream",
          "text": [
            "0.24229218908241487 bits/message-symbol\n"
          ],
          "name": "stdout"
        }
      ]
    },
    {
      "cell_type": "markdown",
      "metadata": {
        "id": "7ikrFGXsDUOP"
      },
      "source": [
        "# Mutual Information - I(X,Y)"
      ]
    },
    {
      "cell_type": "code",
      "metadata": {
        "colab": {
          "base_uri": "https://localhost:8080/",
          "height": 0
        },
        "id": "_3_fiv7CCtQq",
        "outputId": "23524f5d-2b30-4fc5-ba14-d67c5f2db70a"
      },
      "source": [
        "I_x_y = H_y - H_x_y\n",
        "print(I_x_y,\"bits/message-symbol\")"
      ],
      "execution_count": 28,
      "outputs": [
        {
          "output_type": "stream",
          "text": [
            "0.7331461636029637 bits/message-symbol\n"
          ],
          "name": "stdout"
        }
      ]
    },
    {
      "cell_type": "markdown",
      "metadata": {
        "id": "iOYt7U1RMoI-"
      },
      "source": [
        "# Joint Entropy - H(X,Y)"
      ]
    },
    {
      "cell_type": "code",
      "metadata": {
        "colab": {
          "base_uri": "https://localhost:8080/",
          "height": 0
        },
        "id": "sGRIuq8aMtBl",
        "outputId": "bc1e98be-fdad-4b1a-ff9b-cdce4d008d6a"
      },
      "source": [
        "H1_x_y = H_x + H_x_y\n",
        "print(H1_x_y,\"bits/message-symbol\")"
      ],
      "execution_count": 29,
      "outputs": [
        {
          "output_type": "stream",
          "text": [
            "1.2132427835370836 bits/message-symbol\n"
          ],
          "name": "stdout"
        }
      ]
    },
    {
      "cell_type": "markdown",
      "metadata": {
        "id": "_ttZxRU2D4Hs"
      },
      "source": [
        "# Transmission Rate (Rt)"
      ]
    },
    {
      "cell_type": "code",
      "metadata": {
        "colab": {
          "base_uri": "https://localhost:8080/",
          "height": 0
        },
        "id": "vlfG4WJcDjlJ",
        "outputId": "ff0cf8fb-59a7-48d0-f0e3-699b0cbfd190"
      },
      "source": [
        "#symbol rate (rs) is assumed to be 100 symbols/second\n",
        "r_s = 100 \n",
        "R_t = I_x_y * r_s\n",
        "print(R_t,\"bits/second\")\n"
      ],
      "execution_count": 30,
      "outputs": [
        {
          "output_type": "stream",
          "text": [
            "73.31461636029637 bits/second\n"
          ],
          "name": "stdout"
        }
      ]
    },
    {
      "cell_type": "markdown",
      "metadata": {
        "id": "HV3a0t-IEoMX"
      },
      "source": [
        "#  Channel Capacity (C)"
      ]
    },
    {
      "cell_type": "code",
      "metadata": {
        "colab": {
          "base_uri": "https://localhost:8080/",
          "height": 0
        },
        "id": "2fC7FOChET_K",
        "outputId": "5dccec90-68c7-49de-f8d2-3f1f1d8395f9"
      },
      "source": [
        "C = 1 - H_x_y\n",
        "print(C,\"bits/second\")"
      ],
      "execution_count": 31,
      "outputs": [
        {
          "output_type": "stream",
          "text": [
            "0.7577078109175851 bits/second\n"
          ],
          "name": "stdout"
        }
      ]
    },
    {
      "cell_type": "markdown",
      "metadata": {
        "id": "_zox9dBiFRBA"
      },
      "source": [
        "# Source Efficiency (Eeta_channel)"
      ]
    },
    {
      "cell_type": "code",
      "metadata": {
        "colab": {
          "base_uri": "https://localhost:8080/",
          "height": 0
        },
        "id": "EB-_UPbsE3Wl",
        "outputId": "d380ba7e-0538-4da7-a603-cacb7112bf36"
      },
      "source": [
        "Eeta_channel = H_x / math.log(2,2)\n",
        "print(Eeta_channel*100,\"%\")"
      ],
      "execution_count": 32,
      "outputs": [
        {
          "output_type": "stream",
          "text": [
            "97.09505944546687 %\n"
          ],
          "name": "stdout"
        }
      ]
    },
    {
      "cell_type": "markdown",
      "metadata": {
        "id": "bRq_xLweFjzw"
      },
      "source": [
        "# Source Redundancy (R_Eeta_channel)\n"
      ]
    },
    {
      "cell_type": "code",
      "metadata": {
        "colab": {
          "base_uri": "https://localhost:8080/",
          "height": 0
        },
        "id": "8L8DbG9oFiX1",
        "outputId": "bc6f05aa-e389-45b5-d1aa-8a9f013888d9"
      },
      "source": [
        "R_Eeta_channel = 1 - Eeta_channel\n",
        "print(R_Eeta_channel*100,\"%\")"
      ],
      "execution_count": 33,
      "outputs": [
        {
          "output_type": "stream",
          "text": [
            "2.904940554533131 %\n"
          ],
          "name": "stdout"
        }
      ]
    },
    {
      "cell_type": "code",
      "metadata": {
        "id": "NfiA63EmMgM0"
      },
      "source": [
        ""
      ],
      "execution_count": null,
      "outputs": []
    }
  ]
}